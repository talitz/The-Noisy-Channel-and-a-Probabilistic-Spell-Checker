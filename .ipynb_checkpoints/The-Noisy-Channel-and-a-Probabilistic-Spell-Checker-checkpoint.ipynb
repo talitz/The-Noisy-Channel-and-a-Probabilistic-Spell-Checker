{
 "cells": [
  {
   "cell_type": "markdown",
   "metadata": {},
   "source": [
    "Assignment 1 Tests"
   ]
  },
  {
   "cell_type": "code",
   "execution_count": 1,
   "metadata": {},
   "outputs": [
    {
     "name": "stdout",
     "output_type": "stream",
     "text": [
      "a cat sat on the mat . a fat cat sat on the mat . a rat sat on the mat . the rat sat on the cat . a bat spat on the rat that sat on the cat on the mat . \n",
      "defaultdict(<class 'int'>, {'a cat sat': 1, 'cat sat on': 2, 'sat on the': 5, 'on the mat': 4, 'the mat .': 4, 'mat . a': 2, '. a fat': 1, 'a fat cat': 1, 'fat cat sat': 1, '. a rat': 1, 'a rat sat': 1, 'rat sat on': 2, 'mat . the': 1, '. the rat': 1, 'the rat sat': 1, 'on the cat': 2, 'the cat .': 1, 'cat . a': 1, '. a bat': 1, 'a bat spat': 1, 'bat spat on': 1, 'spat on the': 1, 'on the rat': 1, 'the rat that': 1, 'rat that sat': 1, 'that sat on': 1, 'the cat on': 1, 'cat on the': 1})\n"
     ]
    }
   ],
   "source": [
    "import ex1\n",
    "text = 'A cat sat on the mat. A fat cat sat on the mat. A rat sat on the mat. The rat sat on the cat. A bat spat on the rat that sat on the cat on the mat.'\n",
    "nt = ex1.normalize_text(text) #lower casing, padding punctuation with white spaces\n",
    "print(nt)\n",
    "lm = ex1.Ngram_Language_Model(n=3, chars=False)\n",
    "lm.build_model(nt)  #*\n",
    "print(lm.get_model()) #*\n",
    "#t = lm.generate(context = 'a cat',n=30)\n",
    "#for e in [t, 'a cat sat on the mat','the rat sat on the cat' ]: #*\n",
    "#    print('%s | %.3f' %(e, lm.evaluate(e)))"
   ]
  },
  {
   "cell_type": "markdown",
   "metadata": {},
   "source": [
    "Assignment 2 Tests"
   ]
  },
  {
   "cell_type": "code",
   "execution_count": 2,
   "metadata": {},
   "outputs": [
    {
     "ename": "NameError",
     "evalue": "name 'ex2_api' is not defined",
     "output_type": "error",
     "traceback": [
      "\u001b[0;31m---------------------------------------------------------------------------\u001b[0m",
      "\u001b[0;31mNameError\u001b[0m                                 Traceback (most recent call last)",
      "\u001b[0;32m<ipython-input-2-96b74aff221d>\u001b[0m in \u001b[0;36m<module>\u001b[0;34m\u001b[0m\n\u001b[1;32m      1\u001b[0m \u001b[0;32mfrom\u001b[0m \u001b[0mex2_api\u001b[0m \u001b[0;32mimport\u001b[0m \u001b[0;34m*\u001b[0m\u001b[0;34m\u001b[0m\u001b[0;34m\u001b[0m\u001b[0m\n\u001b[1;32m      2\u001b[0m \u001b[0;34m\u001b[0m\u001b[0m\n\u001b[0;32m----> 3\u001b[0;31m \u001b[0msc\u001b[0m \u001b[0;34m=\u001b[0m \u001b[0mex2_api\u001b[0m\u001b[0;34m.\u001b[0m\u001b[0mSpell_Checker\u001b[0m\u001b[0;34m(\u001b[0m\u001b[0mlm\u001b[0m\u001b[0;34m)\u001b[0m\u001b[0;34m\u001b[0m\u001b[0;34m\u001b[0m\u001b[0m\n\u001b[0m\u001b[1;32m      4\u001b[0m \u001b[0mcommmon_errors_dict\u001b[0m \u001b[0;34m=\u001b[0m \u001b[0msc\u001b[0m\u001b[0;34m.\u001b[0m\u001b[0mlearn_error_distribution\u001b[0m\u001b[0;34m(\u001b[0m\u001b[0;34m\"commmon_errors.tsv\"\u001b[0m\u001b[0;34m)\u001b[0m\u001b[0;34m\u001b[0m\u001b[0;34m\u001b[0m\u001b[0m\n\u001b[1;32m      5\u001b[0m \u001b[0;31m#print(commmon_errors_dict)\u001b[0m\u001b[0;34m\u001b[0m\u001b[0;34m\u001b[0m\u001b[0;34m\u001b[0m\u001b[0m\n",
      "\u001b[0;31mNameError\u001b[0m: name 'ex2_api' is not defined"
     ]
    }
   ],
   "source": [
    "import ex2_api\n",
    "from ex2_api import get_all_correct_words\n",
    "\n",
    "sc = ex2_api.Spell_Checker(lm)\n",
    "commmon_errors_dict = sc.learn_error_distribution(\"commmon_errors.tsv\")\n",
    "#print(commmon_errors_dict)\n",
    "print(get_all_correct_words(\"commmon_errors.tsv\"))"
   ]
  },
  {
   "cell_type": "code",
   "execution_count": null,
   "metadata": {},
   "outputs": [],
   "source": []
  }
 ],
 "metadata": {
  "kernelspec": {
   "display_name": "Python 3",
   "language": "python",
   "name": "python3"
  },
  "language_info": {
   "codemirror_mode": {
    "name": "ipython",
    "version": 3
   },
   "file_extension": ".py",
   "mimetype": "text/x-python",
   "name": "python",
   "nbconvert_exporter": "python",
   "pygments_lexer": "ipython3",
   "version": "3.7.3"
  }
 },
 "nbformat": 4,
 "nbformat_minor": 2
}
