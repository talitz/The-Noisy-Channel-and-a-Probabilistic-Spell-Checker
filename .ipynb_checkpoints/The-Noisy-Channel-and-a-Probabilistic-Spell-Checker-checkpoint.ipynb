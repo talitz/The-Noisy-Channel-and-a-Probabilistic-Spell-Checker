{
 "cells": [
  {
   "cell_type": "markdown",
   "metadata": {},
   "source": [
    "Assignment 1 Tests"
   ]
  },
  {
   "cell_type": "code",
   "execution_count": 1,
   "metadata": {},
   "outputs": [
    {
     "name": "stderr",
     "output_type": "stream",
     "text": [
      "IOPub data rate exceeded.\n",
      "The notebook server will temporarily stop sending output\n",
      "to the client in order to avoid crashing it.\n",
      "To change this limit, set the config variable\n",
      "`--NotebookApp.iopub_data_rate_limit`.\n",
      "\n",
      "Current values:\n",
      "NotebookApp.iopub_data_rate_limit=1000000.0 (bytes/sec)\n",
      "NotebookApp.rate_limit_window=3.0 (secs)\n",
      "\n"
     ]
    },
    {
     "name": "stdout",
     "output_type": "stream",
     "text": [
      "a cat based upontheir interpretation of the pillars and steps of the familiarstaircase . the well-known old door handle , which always angered thecountess when it was suggested by his | -13.979\n",
      "a cat sat on the mat | -13.979\n",
      "the rat sat on the cat | -13.979\n"
     ]
    }
   ],
   "source": [
    "import ex2_api\n",
    "from ex2_api import get_all_correct_words,convert_to_error_distributions_dict\n",
    "\n",
    "text = 'A cat sat on the mat. A fat cat sat on the mat. A rat sat on the mat. The rat sat on the cat. A bat spat on the rat that sat on the cat on the mat.'\n",
    "data = []\n",
    "\n",
    "with open('big.txt', 'r') as file:\n",
    "    data = file.read().replace('\\n', '')\n",
    "\n",
    "nt = ex2_api.normalize_text(data) #lower casing, padding punctuation with white spaces\n",
    "lm = ex2_api.Ngram_Language_Model(n=4, chars=False)\n",
    "lm.build_model(nt)  #*\n",
    "print(lm.get_model()) #*\n",
    "t = lm.generate(context = 'a cat',n=30)\n",
    "for e in [t, 'a cat sat on the mat','the rat sat on the cat' ]: #*\n",
    "    print('%s | %.3f' %(e, lm.evaluate(e)))"
   ]
  },
  {
   "cell_type": "markdown",
   "metadata": {},
   "source": [
    "Assignment 2"
   ]
  },
  {
   "cell_type": "code",
   "execution_count": 2,
   "metadata": {},
   "outputs": [],
   "source": [
    "sc = ex2_api.Spell_Checker(lm)\n",
    "commmon_errors_dict = sc.learn_error_distribution(\"commmon_errors.tsv\")"
   ]
  },
  {
   "cell_type": "code",
   "execution_count": 4,
   "metadata": {},
   "outputs": [
    {
     "data": {
      "text/plain": [
       "'file bloe eyes'"
      ]
     },
     "execution_count": 4,
     "metadata": {},
     "output_type": "execute_result"
    }
   ],
   "source": [
    "sc.spell_check(\"fine bloe eyes\",0.45)"
   ]
  },
  {
   "cell_type": "code",
   "execution_count": null,
   "metadata": {},
   "outputs": [],
   "source": []
  }
 ],
 "metadata": {
  "kernelspec": {
   "display_name": "Python 3",
   "language": "python",
   "name": "python3"
  },
  "language_info": {
   "codemirror_mode": {
    "name": "ipython",
    "version": 3
   },
   "file_extension": ".py",
   "mimetype": "text/x-python",
   "name": "python",
   "nbconvert_exporter": "python",
   "pygments_lexer": "ipython3",
   "version": "3.7.3"
  }
 },
 "nbformat": 4,
 "nbformat_minor": 2
}
