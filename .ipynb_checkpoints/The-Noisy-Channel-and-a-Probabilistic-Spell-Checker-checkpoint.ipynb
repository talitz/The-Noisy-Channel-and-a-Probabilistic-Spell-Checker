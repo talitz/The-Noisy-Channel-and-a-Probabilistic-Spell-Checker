{
 "cells": [
  {
   "cell_type": "markdown",
   "metadata": {},
   "source": [
    "Assignment 1 Tests"
   ]
  },
  {
   "cell_type": "code",
   "execution_count": null,
   "metadata": {},
   "outputs": [],
   "source": [
    "import ex1\n",
    " \n",
    "text = 'A cat sat on the mat. A fat cat sat on the mat. A rat sat on the mat. The rat sat on the cat. A bat spat on the rat that sat on the cat on the mat.'\n",
    "nt = ex1.normalize_text(text) #lower casing, padding punctuation with white spaces\n",
    "print(nt)\n",
    "lm = ex1.Ngram_Language_Model(n=3, chars=False)\n",
    "lm.build_model(nt)  #*\n",
    "print(lm.get_model()) #*\n",
    "t = lm.generate(context = 'a cat',n=30)\n",
    "for e in [t, 'a cat sat on the mat','the rat sat on the cat' ]: #*\n",
    "    print('%s | %.3f' %(e, lm.evaluate(e)))"
   ]
  },
  {
   "cell_type": "markdown",
   "metadata": {},
   "source": [
    "Assignment 2 Tests"
   ]
  },
  {
   "cell_type": "code",
   "execution_count": null,
   "metadata": {},
   "outputs": [],
   "source": [
    "import ex2_api\n",
    "from ex2_api import get_all_correct_words,convert_to_error_distributions_dict\n",
    "sc = ex2_api.Spell_Checker(lm)\n",
    "commmon_errors_dict = sc.learn_error_distribution(\"commmon_errors.tsv\")"
   ]
  },
  {
   "cell_type": "code",
   "execution_count": null,
   "metadata": {},
   "outputs": [],
   "source": [
    "#print(commmon_errors_dict)\n",
    "sc.spell_check(\"a cat sat on the mat\",0.5)"
   ]
  }
 ],
 "metadata": {
  "kernelspec": {
   "display_name": "Python 3",
   "language": "python",
   "name": "python3"
  },
  "language_info": {
   "codemirror_mode": {
    "name": "ipython",
    "version": 3
   },
   "file_extension": ".py",
   "mimetype": "text/x-python",
   "name": "python",
   "nbconvert_exporter": "python",
   "pygments_lexer": "ipython3",
   "version": "3.7.3"
  }
 },
 "nbformat": 4,
 "nbformat_minor": 2
}
